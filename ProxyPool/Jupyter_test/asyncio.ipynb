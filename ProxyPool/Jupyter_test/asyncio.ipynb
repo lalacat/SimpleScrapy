{
 "cells": [
  {
   "cell_type": "code",
   "execution_count": 1,
   "metadata": {},
   "outputs": [
    {
     "name": "stdout",
     "output_type": "stream",
     "text": [
      "Hello world!\n",
      "Hello again!\n"
     ]
    }
   ],
   "source": [
    "import asyncio\n",
    "\n",
    "@asyncio.coroutine\n",
    "def hello():\n",
    "    print(\"Hello world!\")\n",
    "    # 异步调用asyncio.sleep(1):\n",
    "    r = yield from asyncio.sleep(1)\n",
    "    print(\"Hello again!\")\n",
    "\n",
    "# 获取EventLoop:\n",
    "loop = asyncio.get_event_loop()\n",
    "# 执行coroutine\n",
    "loop.run_until_complete(hello())\n",
    "loop.close()"
   ]
  },
  {
   "cell_type": "code",
   "execution_count": 1,
   "metadata": {},
   "outputs": [
    {
     "name": "stdout",
     "output_type": "stream",
     "text": [
      "Hello world! (<_MainThread(MainThread, started 21604)>)\n",
      "Hello world! (<_MainThread(MainThread, started 21604)>)\n",
      "Hello again! (<_MainThread(MainThread, started 21604)>)\n",
      "Hello again! (<_MainThread(MainThread, started 21604)>)\n"
     ]
    }
   ],
   "source": [
    "import threading\n",
    "import asyncio\n",
    "\n",
    "@asyncio.coroutine\n",
    "def hello():\n",
    "    print('Hello world! (%s)' % threading.currentThread())\n",
    "    yield from asyncio.sleep(1)\n",
    "    print('Hello again! (%s)' % threading.currentThread())\n",
    "\n",
    "loop = asyncio.get_event_loop()\n",
    "tasks = [hello(), hello()]\n",
    "loop.run_until_complete(asyncio.wait(tasks))\n",
    "loop.close()"
   ]
  },
  {
   "cell_type": "code",
   "execution_count": 1,
   "metadata": {},
   "outputs": [
    {
     "name": "stdout",
     "output_type": "stream",
     "text": [
      "wget www.163.com...\n",
      "wget www.sina.com.cn...\n",
      "wget www.sohu.com...\n",
      "www.sohu.com header > HTTP/1.1 200 OK\n",
      "www.sohu.com header > Content-Type: text/html;charset=UTF-8\n",
      "www.sohu.com header > Connection: close\n",
      "www.sohu.com header > Server: nginx\n",
      "www.sohu.com header > Date: Tue, 26 Mar 2019 14:02:07 GMT\n",
      "www.sohu.com header > Cache-Control: max-age=60\n",
      "www.sohu.com header > X-From-Sohu: X-SRC-Cached\n",
      "www.sohu.com header > Content-Encoding: gzip\n",
      "www.sohu.com header > FSS-Cache: HIT from 11770202.14915940.19708298\n",
      "www.sohu.com header > FSS-Proxy: Powered by 9410870.10197312.17348930\n",
      "www.sina.com.cn header > HTTP/1.1 302 Moved Temporarily\n",
      "www.sina.com.cn header > Server: nginx\n",
      "www.sina.com.cn header > Date: Tue, 26 Mar 2019 14:02:56 GMT\n",
      "www.sina.com.cn header > Content-Type: text/html\n",
      "www.sina.com.cn header > Content-Length: 154\n",
      "www.sina.com.cn header > Connection: close\n",
      "www.sina.com.cn header > Location: https://www.sina.com.cn/\n",
      "www.sina.com.cn header > X-Via-CDN: f=edge,s=ctc.nanjing.ha2ts4.63.nb.sinaedge.com,c=101.95.25.226;\n",
      "www.sina.com.cn header > X-Via-Edge: 1553608976746e2195f657c5e66ca09e967db\n",
      "www.163.com header > HTTP/1.1 200 OK\n",
      "www.163.com header > Expires: Tue, 26 Mar 2019 14:04:16 GMT\n",
      "www.163.com header > Date: Tue, 26 Mar 2019 14:02:56 GMT\n",
      "www.163.com header > Server: nginx\n",
      "www.163.com header > Content-Type: text/html; charset=GBK\n",
      "www.163.com header > Vary: Accept-Encoding,User-Agent,Accept\n",
      "www.163.com header > Cache-Control: max-age=80\n",
      "www.163.com header > X-Via: 1.1 PSzjwzdx11at80:10 (Cdn Cache Server V2.0), 1.1 PSshqzdx4jj172:0 (Cdn Cache Server V2.0)\n",
      "www.163.com header > Connection: close\n"
     ]
    }
   ],
   "source": [
    "import asyncio\n",
    "\n",
    "@asyncio.coroutine\n",
    "def wget(host):\n",
    "    print('wget %s...' % host)\n",
    "    connect = asyncio.open_connection(host, 80)\n",
    "    reader, writer = yield from connect\n",
    "    header = 'GET / HTTP/1.0\\r\\nHost: %s\\r\\n\\r\\n' % host\n",
    "    writer.write(header.encode('utf-8'))\n",
    "    yield from writer.drain()\n",
    "    while True:\n",
    "        line = yield from reader.readline()\n",
    "        if line == b'\\r\\n':\n",
    "            break\n",
    "        print('%s header > %s' % (host, line.decode('utf-8').rstrip()))\n",
    "    # Ignore the body, close the socket\n",
    "    writer.close()\n",
    "\n",
    "loop = asyncio.get_event_loop()\n",
    "tasks = [wget(host) for host in ['www.sina.com.cn', 'www.sohu.com', 'www.163.com']]\n",
    "loop.run_until_complete(asyncio.wait(tasks))\n",
    "loop.close()"
   ]
  },
  {
   "cell_type": "code",
   "execution_count": 6,
   "metadata": {},
   "outputs": [
    {
     "name": "stdout",
     "output_type": "stream",
     "text": [
      "加 2\n",
      "加 3\n",
      "加 None\n",
      "加和总数是: 5\n"
     ]
    }
   ],
   "source": [
    "def generator_1():\n",
    "    total = 0\n",
    "    while True:\n",
    "        x = yield \n",
    "        print('加',x)\n",
    "        if not x:\n",
    "            break\n",
    "        total += x\n",
    "    return total\n",
    "def generator_2(): # 委托生成器\n",
    "    while True:\n",
    "        total = yield from generator_1() # 子生成器\n",
    "        print('加和总数是:',total)\n",
    "# s = generator_1()\n",
    "# s.send(None)\n",
    "# s.send(2)\n",
    "# s.send(3)\n",
    "# s.send(None)\n",
    "s = generator_2()\n",
    "s.send(None)\n",
    "s.send(2)\n",
    "s.send(3)\n",
    "s.send(None)"
   ]
  },
  {
   "cell_type": "code",
   "execution_count": 2,
   "metadata": {},
   "outputs": [
    {
     "ename": "RuntimeError",
     "evalue": "Event loop is closed",
     "output_type": "error",
     "traceback": [
      "\u001b[1;31m---------------------------------------------------------------------------\u001b[0m",
      "\u001b[1;31mRuntimeError\u001b[0m                              Traceback (most recent call last)",
      "\u001b[1;32m<ipython-input-2-712116a0351f>\u001b[0m in \u001b[0;36m<module>\u001b[1;34m()\u001b[0m\n\u001b[0;32m     21\u001b[0m     \u001b[0mloop\u001b[0m \u001b[1;33m=\u001b[0m \u001b[0masyncio\u001b[0m\u001b[1;33m.\u001b[0m\u001b[0mget_event_loop\u001b[0m\u001b[1;33m(\u001b[0m\u001b[1;33m)\u001b[0m \u001b[1;31m# 创建一个事件循环对象loop\u001b[0m\u001b[1;33m\u001b[0m\u001b[0m\n\u001b[0;32m     22\u001b[0m     \u001b[1;32mtry\u001b[0m\u001b[1;33m:\u001b[0m\u001b[1;33m\u001b[0m\u001b[0m\n\u001b[1;32m---> 23\u001b[1;33m         \u001b[0mloop\u001b[0m\u001b[1;33m.\u001b[0m\u001b[0mrun_until_complete\u001b[0m\u001b[1;33m(\u001b[0m\u001b[0mmain\u001b[0m\u001b[1;33m(\u001b[0m\u001b[1;33m)\u001b[0m\u001b[1;33m)\u001b[0m \u001b[1;31m# 完成事件循环，直到最后一个任务结束\u001b[0m\u001b[1;33m\u001b[0m\u001b[0m\n\u001b[0m\u001b[0;32m     24\u001b[0m     \u001b[1;32mfinally\u001b[0m\u001b[1;33m:\u001b[0m\u001b[1;33m\u001b[0m\u001b[0m\n\u001b[0;32m     25\u001b[0m         \u001b[0mloop\u001b[0m\u001b[1;33m.\u001b[0m\u001b[0mclose\u001b[0m\u001b[1;33m(\u001b[0m\u001b[1;33m)\u001b[0m \u001b[1;31m# 结束事件循环\u001b[0m\u001b[1;33m\u001b[0m\u001b[0m\n",
      "\u001b[1;32mC:\\ProgramData\\Anaconda3\\lib\\asyncio\\base_events.py\u001b[0m in \u001b[0;36mrun_until_complete\u001b[1;34m(self, future)\u001b[0m\n\u001b[0;32m    442\u001b[0m         \u001b[0mReturn\u001b[0m \u001b[0mthe\u001b[0m \u001b[0mFuture\u001b[0m\u001b[0;31m'\u001b[0m\u001b[0ms\u001b[0m \u001b[0mresult\u001b[0m\u001b[1;33m,\u001b[0m \u001b[1;32mor\u001b[0m \u001b[1;32mraise\u001b[0m \u001b[0mits\u001b[0m \u001b[0mexception\u001b[0m\u001b[1;33m.\u001b[0m\u001b[1;33m\u001b[0m\u001b[0m\n\u001b[0;32m    443\u001b[0m         \"\"\"\n\u001b[1;32m--> 444\u001b[1;33m         \u001b[0mself\u001b[0m\u001b[1;33m.\u001b[0m\u001b[0m_check_closed\u001b[0m\u001b[1;33m(\u001b[0m\u001b[1;33m)\u001b[0m\u001b[1;33m\u001b[0m\u001b[0m\n\u001b[0m\u001b[0;32m    445\u001b[0m \u001b[1;33m\u001b[0m\u001b[0m\n\u001b[0;32m    446\u001b[0m         \u001b[0mnew_task\u001b[0m \u001b[1;33m=\u001b[0m \u001b[1;32mnot\u001b[0m \u001b[0mfutures\u001b[0m\u001b[1;33m.\u001b[0m\u001b[0misfuture\u001b[0m\u001b[1;33m(\u001b[0m\u001b[0mfuture\u001b[0m\u001b[1;33m)\u001b[0m\u001b[1;33m\u001b[0m\u001b[0m\n",
      "\u001b[1;32mC:\\ProgramData\\Anaconda3\\lib\\asyncio\\base_events.py\u001b[0m in \u001b[0;36m_check_closed\u001b[1;34m(self)\u001b[0m\n\u001b[0;32m    356\u001b[0m     \u001b[1;32mdef\u001b[0m \u001b[0m_check_closed\u001b[0m\u001b[1;33m(\u001b[0m\u001b[0mself\u001b[0m\u001b[1;33m)\u001b[0m\u001b[1;33m:\u001b[0m\u001b[1;33m\u001b[0m\u001b[0m\n\u001b[0;32m    357\u001b[0m         \u001b[1;32mif\u001b[0m \u001b[0mself\u001b[0m\u001b[1;33m.\u001b[0m\u001b[0m_closed\u001b[0m\u001b[1;33m:\u001b[0m\u001b[1;33m\u001b[0m\u001b[0m\n\u001b[1;32m--> 358\u001b[1;33m             \u001b[1;32mraise\u001b[0m \u001b[0mRuntimeError\u001b[0m\u001b[1;33m(\u001b[0m\u001b[1;34m'Event loop is closed'\u001b[0m\u001b[1;33m)\u001b[0m\u001b[1;33m\u001b[0m\u001b[0m\n\u001b[0m\u001b[0;32m    359\u001b[0m \u001b[1;33m\u001b[0m\u001b[0m\n\u001b[0;32m    360\u001b[0m     \u001b[1;32mdef\u001b[0m \u001b[0m_asyncgen_finalizer_hook\u001b[0m\u001b[1;33m(\u001b[0m\u001b[0mself\u001b[0m\u001b[1;33m,\u001b[0m \u001b[0magen\u001b[0m\u001b[1;33m)\u001b[0m\u001b[1;33m:\u001b[0m\u001b[1;33m\u001b[0m\u001b[0m\n",
      "\u001b[1;31mRuntimeError\u001b[0m: Event loop is closed"
     ]
    }
   ],
   "source": [
    "import time\n",
    "import asyncio\n",
    "async def taskIO_1():\n",
    "    print('开始运行IO任务1...')\n",
    "    await asyncio.sleep(2)  # 假设该任务耗时2s\n",
    "    print('IO任务1已完成，耗时2s')\n",
    "    return taskIO_1.__name__\n",
    "async def taskIO_2():\n",
    "    print('开始运行IO任务2...')\n",
    "    await asyncio.sleep(3)  # 假设该任务耗时3s\n",
    "    print('IO任务2已完成，耗时3s')\n",
    "    return taskIO_2.__name__\n",
    "async def main(): # 调用方\n",
    "    tasks = [taskIO_1(), taskIO_2()]  # 把所有任务添加到task中\n",
    "    done,pending = await asyncio.wait(tasks) # 子生成器\n",
    "    for r in done: # done和pending都是一个任务，所以返回结果需要逐个调用result()\n",
    "        print('协程无序返回值：'+r.result())\n",
    "\n",
    "# if __name__ == '__main__':\n",
    "#     start = time.time()\n",
    "#     loop = asyncio.get_event_loop() # 创建一个事件循环对象loop\n",
    "#     try:\n",
    "#         loop.run_until_complete(main()) # 完成事件循环，直到最后一个任务结束\n",
    "#     finally:\n",
    "#         loop.close() # 结束事件循环\n",
    "#     print('所有IO任务总耗时%.5f秒' % float(time.time()-start))\n"
   ]
  },
  {
   "cell_type": "code",
   "execution_count": 1,
   "metadata": {},
   "outputs": [
    {
     "ename": "ModuleNotFoundError",
     "evalue": "No module named 'tqdm'",
     "output_type": "error",
     "traceback": [
      "\u001b[1;31m---------------------------------------------------------------------------\u001b[0m",
      "\u001b[1;31mModuleNotFoundError\u001b[0m                       Traceback (most recent call last)",
      "\u001b[1;32m<ipython-input-1-decf43e5741c>\u001b[0m in \u001b[0;36m<module>\u001b[1;34m()\u001b[0m\n\u001b[1;32m----> 1\u001b[1;33m \u001b[1;32mfrom\u001b[0m \u001b[0mtqdm\u001b[0m \u001b[1;32mimport\u001b[0m \u001b[0mtqdm\u001b[0m\u001b[1;33m\u001b[0m\u001b[0m\n\u001b[0m",
      "\u001b[1;31mModuleNotFoundError\u001b[0m: No module named 'tqdm'"
     ]
    }
   ],
   "source": [
    "from tqdm import tqdm"
   ]
  }
 ],
 "metadata": {
  "kernelspec": {
   "display_name": "Python 3",
   "language": "python",
   "name": "python3"
  },
  "language_info": {
   "codemirror_mode": {
    "name": "ipython",
    "version": 3
   },
   "file_extension": ".py",
   "mimetype": "text/x-python",
   "name": "python",
   "nbconvert_exporter": "python",
   "pygments_lexer": "ipython3",
   "version": "3.6.6"
  }
 },
 "nbformat": 4,
 "nbformat_minor": 2
}
